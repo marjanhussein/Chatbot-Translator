{
 "cells": [
  {
   "cell_type": "code",
   "execution_count": 18,
   "metadata": {},
   "outputs": [
    {
     "name": "stdout",
     "output_type": "stream",
     "text": [
      "Translated text: Salut tout le monde\n"
     ]
    }
   ],
   "source": [
    "import requests\n",
    "import uuid\n",
    "\n",
    "def translate_text(text, source_lang, target_lang):\n",
    "    translator_endpoint = 'https://api.cognitive.microsofttranslator.com/'  # Replace with your endpoint\n",
    "    translator_api_key = '83b4a6cef377438e857bc3f920b3f550'  # Replace with your subscription key\n",
    "\n",
    "    path = '/translate?api-version=3.0'\n",
    "    params = '&from=' + source_lang + '&to=' + target_lang\n",
    "    constructed_url = translator_endpoint + path + params\n",
    "\n",
    "    # Construction of Payload\n",
    "    payload = [{'text': text}]\n",
    "\n",
    "    headers = {\n",
    "        'Ocp-Apim-Subscription-Key': translator_api_key,\n",
    "        'Ocp-Apim-Subscription-Region': 'westeurope',  # Replace with your subscription region\n",
    "        'Content-Type': 'application/json',\n",
    "        'X-ClientTraceId': str(uuid.uuid4())\n",
    "    }\n",
    "\n",
    "    request = requests.post(constructed_url, headers=headers, json=payload)\n",
    "    response = request.json()\n",
    "    translated_text = response[0]['translations'][0]['text']\n",
    "    return translated_text\n",
    "\n",
    "# User interaction\n",
    "text_to_translate = input(\"Enter the text to translate: \")\n",
    "source_language = input(\"Enter the source language code (e.g., 'en' for English): \")\n",
    "target_language = input(\"Enter the target language code (e.g., 'fr' for French): \")\n",
    "\n",
    "# Translate the text\n",
    "translated = translate_text(text_to_translate, source_language, target_language)\n",
    "print(\"Translated text:\", translated)\n"
   ]
  }
 ],
 "metadata": {
  "kernelspec": {
   "display_name": "Python 3",
   "language": "python",
   "name": "python3"
  },
  "language_info": {
   "codemirror_mode": {
    "name": "ipython",
    "version": 3
   },
   "file_extension": ".py",
   "mimetype": "text/x-python",
   "name": "python",
   "nbconvert_exporter": "python",
   "pygments_lexer": "ipython3",
   "version": "3.11.1"
  }
 },
 "nbformat": 4,
 "nbformat_minor": 2
}
